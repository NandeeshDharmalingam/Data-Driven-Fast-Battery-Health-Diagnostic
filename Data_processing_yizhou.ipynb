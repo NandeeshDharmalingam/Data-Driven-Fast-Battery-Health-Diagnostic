{
 "cells": [
  {
   "cell_type": "markdown",
   "id": "3d878580-bbc1-4c26-92ce-08838ca7555d",
   "metadata": {},
   "source": [
    "# Processing the RPT profile of the TUM cycling dataset"
   ]
  },
  {
   "cell_type": "code",
   "execution_count": null,
   "id": "c39d8c3d-462f-4a0e-9434-fae6ce991136",
   "metadata": {},
   "outputs": [],
   "source": [
    "import matplotlib.pyplot as plt\n",
    "import matplotlib.image as mpimg\n",
    "import matplotlib \n",
    "%matplotlib notebook\n",
    "import sys\n",
    "import numpy as np\n",
    "import pandas as pd\n",
    "import os\n",
    "import pickle\n",
    "import random\n",
    "from os import listdir\n",
    "import tensorflow as tf\n",
    "from tqdm import tqdm\n",
    "from sklearn.model_selection import train_test_split\n",
    "from sklearn.ensemble import RandomForestRegressor\n",
    "from sklearn.metrics import mean_absolute_percentage_error, mean_absolute_error, mean_squared_error, r2_score\n",
    "from sklearn.preprocessing import StandardScaler\n",
    "# import keras_tuner as kt\n",
    "from tensorflow import keras\n",
    "from timeit import default_timer as timer\n",
    "import seaborn as sns\n",
    "from scipy.io import loadmat\n",
    "from pykalman import KalmanFilter"
   ]
  },
  {
   "cell_type": "code",
   "execution_count": null,
   "id": "23e31eaf-603f-47f8-ac21-530db3f4d2d3",
   "metadata": {},
   "outputs": [],
   "source": [
    "CU_list = listdir('E:\\Thesis CEVT\\Dataset\\TUM\\CU_Cyclic')\n",
    "CU_list.sort()\n",
    "print(CU_list)"
   ]
  },
  {
   "cell_type": "code",
   "execution_count": null,
   "id": "72a536d9-3863-4135-929f-0c3b45e6eb51",
   "metadata": {},
   "outputs": [],
   "source": [
    "out_data = dict()\n",
    "for CU_id in tqdm(CU_list):\n",
    "    Cell_file = listdir(f'E:\\Thesis CEVT\\Dataset\\TUM\\CU_Cyclic\\{CU_id}')\n",
    "    for cell in Cell_file:\n",
    "        if '.mat' in cell:\n",
    "            file_path = f'E:\\Thesis CEVT\\Dataset\\TUM\\CU_Cyclic\\{CU_id}{cell}'\n",
    "            mat_data = loadmat(file_path, squeeze_me=True, struct_as_record=False)\n",
    "            columns_to_extract = [\n",
    "                'Time', 'DataSet', 'tStep', 'Line', 'Command', 'U', 'I', 'Ah', 'AhStep', 'AhSet',\n",
    "                 'Wh',  'T1', 'RAC', 'RDC', 'CycCount', \n",
    "                'State']\n",
    "            dataset = mat_data.get('Dataset')\n",
    "            data = {}\n",
    "            for field in columns_to_extract:\n",
    "                field_value = getattr(dataset, field, None)\n",
    "                if field_value is not None:\n",
    "                    if isinstance(field_value, np.ndarray):\n",
    "                        data[field] = field_value.squeeze()\n",
    "            df = pd.DataFrame(data)\n",
    "            if df['Time'].iloc[-1] < 100:\n",
    "                df['Time'] = df['Time']*3600\n",
    "\n",
    "            discharge_1 = df[(df['Command']=='Discharge') & (df['Line']==20) | (df['Line']==21)]\n",
    "            discharge_2 = df[(df['Command']=='Discharge') & (df['Line']==27) | (df['Line']==28)]\n",
    "            dis_cap_1 = -sum(discharge_1['Time'].diff().iloc[1:]*discharge_1['I'].iloc[1:])/3600\n",
    "            dis_cap_2 = -sum(discharge_2['Time'].diff().iloc[1:]*discharge_2['I'].iloc[1:])/3600\n",
    "            dis_cap = (dis_cap_1 + dis_cap_2) / 2\n",
    "            charge_1 = df[(df['Command']=='Charge') & (df['Line']==16) | (df['Line']==17)]\n",
    "            charge_2 = df[(df['Command']=='Charge') & (df['Line']==23) | (df['Line']==24)]\n",
    "            cha_cap_1 = sum(charge_1['Time'].diff().iloc[1:]*charge_1['I'].iloc[1:])/3600\n",
    "            cha_cap_2 = sum(charge_2['Time'].diff().iloc[1:]*charge_2['I'].iloc[1:])/3600\n",
    "            cha_cap = (cha_cap_1 + cha_cap_2) / 2\n",
    "\n",
    "            if f'{cell[7:10]}' in out_data.keys():\n",
    "                out_data[f'{cell[7:10]}']['Capacity_dis'].append(dis_cap)\n",
    "                out_data[f'{cell[7:10]}']['Capacity_cha'].append(cha_cap)\n",
    "                out_data[f'{cell[7:10]}']['Current'].append(charge_2['I'].values)\n",
    "                out_data[f'{cell[7:10]}']['Voltage'].append(charge_2['U'].values)\n",
    "                out_data[f'{cell[7:10]}']['Temperature'].append(charge_2['T1'].values)\n",
    "                out_data[f'{cell[7:10]}']['Time'].append(charge_2['Time'].values)\n",
    "            else:\n",
    "                out_data[f'{cell[7:10]}'] = dict()\n",
    "                out_data[f'{cell[7:10]}']['Capacity_dis'] = [dis_cap]\n",
    "                out_data[f'{cell[7:10]}']['Capacity_cha'] = [cha_cap]\n",
    "                out_data[f'{cell[7:10]}']['Current'] = [charge_2['I'].values]\n",
    "                out_data[f'{cell[7:10]}']['Voltage'] = [charge_2['U'].values]\n",
    "                out_data[f'{cell[7:10]}']['Temperature'] = [charge_2['T1'].values]\n",
    "                out_data[f'{cell[7:10]}']['Time'] = [charge_2['Time'].values]"
   ]
  },
  {
   "cell_type": "code",
   "execution_count": null,
   "id": "d94fd49c",
   "metadata": {},
   "outputs": [],
   "source": [
    "print(cell)"
   ]
  },
  {
   "cell_type": "code",
   "execution_count": null,
   "id": "3df3602f-4b91-4670-a3eb-176ade50d531",
   "metadata": {},
   "outputs": [],
   "source": [
    "out_data.keys()"
   ]
  },
  {
   "cell_type": "code",
   "execution_count": null,
   "id": "a8dd2481",
   "metadata": {},
   "outputs": [],
   "source": [
    "len(out_data['236']['Capacity_dis'])"
   ]
  },
  {
   "cell_type": "code",
   "execution_count": null,
   "id": "c58f24ff-e79b-4958-b1bc-b65724fb15dd",
   "metadata": {},
   "outputs": [],
   "source": [
    "#for cell_id in out_data.keys():\n",
    "#    plt.figure(figsize=(12, 8))\n",
    "#    plt.plot(out_data[cell_id]['Capacity_dis'])\n",
    "# plt.ylim(2, 2.5)\n",
    "    \n",
    "matplotlib.pyplot.close()"
   ]
  },
  {
   "cell_type": "code",
   "execution_count": null,
   "id": "e4e9acc2-cd04-4483-bc7b-f3258ff7e04a",
   "metadata": {},
   "outputs": [],
   "source": [
    "with open('E:\\Thesis CEVT\\Dataset\\TUM\\CU_Cyclic\\CU000_cyc\\out_data_CU000.pickle', 'wb') as handle:\n",
    "    pickle.dump(out_data, handle, protocol=pickle.HIGHEST_PROTOCOL)"
   ]
  },
  {
   "cell_type": "code",
   "execution_count": null,
   "id": "5ebad19e",
   "metadata": {},
   "outputs": [],
   "source": [
    "for cell_id in out_data.keys():\n",
    "    cell_data = {\n",
    "        'Voltage': out_data[cell_id]['Voltage'],\n",
    "        'Current': out_data[cell_id]['Current'],\n",
    "        'Temperature': out_data[cell_id]['Temperature'],\n",
    "        'Capacity_dis': out_data[cell_id]['Capacity_dis'],\n",
    "        'Capacity_cha': out_data[cell_id]['Capacity_cha'],\n",
    "        'Time': out_data[cell_id]['Time']\n",
    "    }\n",
    "    # Example operation on cell_data, e.g., printing\n",
    "    print(f\"Data for cell ID {cell_id}: {cell_data}\")"
   ]
  },
  {
   "cell_type": "code",
   "execution_count": null,
   "id": "70881703",
   "metadata": {},
   "outputs": [],
   "source": [
    "len(cell_data)"
   ]
  },
  {
   "cell_type": "code",
   "execution_count": 142,
   "id": "19ae34e2",
   "metadata": {},
   "outputs": [
    {
     "ename": "ValueError",
     "evalue": "setting an array element with a sequence. The requested array has an inhomogeneous shape after 1 dimensions. The detected shape was (16,) + inhomogeneous part.",
     "output_type": "error",
     "traceback": [
      "\u001b[1;31m---------------------------------------------------------------------------\u001b[0m",
      "\u001b[1;31mValueError\u001b[0m                                Traceback (most recent call last)",
      "Cell \u001b[1;32mIn[142], line 1\u001b[0m\n\u001b[1;32m----> 1\u001b[0m voltage_data \u001b[38;5;241m=\u001b[39m \u001b[43mnp\u001b[49m\u001b[38;5;241;43m.\u001b[39;49m\u001b[43marray\u001b[49m\u001b[43m(\u001b[49m\u001b[43mout_data\u001b[49m\u001b[43m[\u001b[49m\u001b[43mcell_id\u001b[49m\u001b[43m]\u001b[49m\u001b[43m[\u001b[49m\u001b[38;5;124;43m'\u001b[39;49m\u001b[38;5;124;43mVoltage\u001b[39;49m\u001b[38;5;124;43m'\u001b[39;49m\u001b[43m]\u001b[49m\u001b[43m)\u001b[49m  \u001b[38;5;66;03m# Convert to NumPy array if it's not already\u001b[39;00m\n\u001b[0;32m      2\u001b[0m \u001b[38;5;28mprint\u001b[39m((voltage_data \u001b[38;5;241m<\u001b[39m \u001b[38;5;241m4.0\u001b[39m) \u001b[38;5;241m&\u001b[39m (voltage_data \u001b[38;5;241m>\u001b[39m \u001b[38;5;241m3.4\u001b[39m))\n",
      "\u001b[1;31mValueError\u001b[0m: setting an array element with a sequence. The requested array has an inhomogeneous shape after 1 dimensions. The detected shape was (16,) + inhomogeneous part."
     ]
    }
   ],
   "source": [
    "\n",
    "voltage_data = np.array(out_data[cell_id]['Voltage'])  # Convert to NumPy array if it's not already\n",
    "print((voltage_data < 4.0) & (voltage_data > 3.4))\n"
   ]
  },
  {
   "cell_type": "code",
   "execution_count": null,
   "id": "6b3c1e7d",
   "metadata": {},
   "outputs": [],
   "source": [
    "for cell_id in out_data.keys():\n",
    "    plt.figure(figsize=[10, 6])\n",
    "    print(f\"{cell_id} ICA analysis\")\n",
    "\n",
    "    for cycle_index, voltage in enumerate(out_data[cell_id]['Voltage']):\n",
    "        current = out_data[cell_id]['Current'][cycle_index]\n",
    "        time = out_data[cell_id]['Time'][cycle_index]\n",
    "\n",
    "        # Calculate dQ and dV, ensure arrays are prepared properly\n",
    "        time_diff = np.diff(time, prepend=time[0])\n",
    "        dQ = current * time_diff / 3600  # Ah\n",
    "        dV = np.diff(voltage, prepend=voltage[0])\n",
    "        dq_dv = np.divide(dQ, dV, out=np.zeros_like(dQ), where=dV!=0)\n",
    "        \n",
    "\n",
    "        # Apply Kalman Filter to dQ/dV\n",
    "        kf = KalmanFilter(initial_state_mean=0, n_dim_obs=1, n_dim_state=1,\n",
    "                          transition_matrices=[1], observation_matrices=[1],\n",
    "                          initial_state_covariance=1, observation_covariance=1,\n",
    "                          transition_covariance=0.1)\n",
    "        dq_dv_filtered, _ = kf.filter(dq_dv.reshape(-1, 1))\n",
    "\n",
    "        # Ensure the voltage array is prepared for plotting\n",
    "        # Trimming or adjusting voltage array based on filtered dQ/dV length\n",
    "        voltage_for_plot = voltage[1:len(dq_dv_filtered.ravel())+1]\n",
    "\n",
    "        if len(voltage_for_plot) != len(dq_dv_filtered.ravel()):\n",
    "            # If lengths still don't match, further adjust to ensure exact match\n",
    "            min_length = min(len(voltage_for_plot), len(dq_dv_filtered.ravel()))\n",
    "            voltage_for_plot = voltage_for_plot[:min_length]\n",
    "            dq_dv_filtered = dq_dv_filtered[:min_length]\n",
    "\n",
    "        plt.plot(voltage_for_plot, dq_dv_filtered.ravel(), label=f'Cycle {cycle_index+1}')\n",
    "\n",
    "\n",
    "    plt.xlabel('Voltage (V)')\n",
    "    plt.ylabel('dQ/dV (Filtered)')\n",
    "    plt.title(f'ICA Analysis for Cell {cell_id}')\n",
    "    plt.show()"
   ]
  },
  {
   "cell_type": "code",
   "execution_count": null,
   "id": "c80c4303",
   "metadata": {},
   "outputs": [],
   "source": [
    "for cell_id in out_data.keys():\n",
    "    for i, voltage in enumerate(out_data[cell_id]['Voltage']):\n",
    "        plt.plot(voltage, label=f'Cycle {i}')\n",
    "    #plt.legend()\n",
    "    plt.xlabel('Time')\n",
    "    plt.ylabel('Voltage')\n",
    "    plt.title(f'Voltage over Time for Cell_id {cell_id}')\n",
    "    plt.show()\n",
    "else:\n",
    "    print(f\"No data available for cell ID: {cell_id}\")\n",
    "\n",
    "\n"
   ]
  },
  {
   "cell_type": "code",
   "execution_count": null,
   "id": "9b53d35e-1810-4ce0-8d45-89f874ada63e",
   "metadata": {},
   "outputs": [],
   "source": [
    "cell_id = '236'\n",
    "for i in range(len(out_data[cell_id]['Current'])):\n",
    "    plt.plot(out_data[cell_id]['Voltage'][i], label=f'{i}')\n",
    "plt.legend()"
   ]
  },
  {
   "cell_type": "code",
   "execution_count": null,
   "id": "45c9c679-61d8-4cf0-afe3-97bd71719c1d",
   "metadata": {},
   "outputs": [],
   "source": [
    "file_path = f'/mimer/NOBACKUP/groups/yizhou_battery/Fast_diagnostic_Thesis/CU_Cyclic/CU003_cyc/BW-VTC-271_3054_CU_cyc_003_BW-VTC-CYC2.mat'\n",
    "mat_data = loadmat(file_path, squeeze_me=True, struct_as_record=False)\n",
    "columns_to_extract = [\n",
    "    'Time', 'DataSet', 'tStep', 'Line', 'Command', 'U', 'I', 'Ah', 'AhStep', 'AhSet',\n",
    "     'Wh',  'T1', 'RAC', 'RDC', 'CycCount', \n",
    "    'State']\n",
    "dataset = mat_data.get('Dataset')\n",
    "data = {}\n",
    "for field in columns_to_extract:\n",
    "    field_value = getattr(dataset, field, None)\n",
    "    if field_value is not None:\n",
    "        if isinstance(field_value, np.ndarray):\n",
    "            data[field] = field_value.squeeze()\n",
    "df = pd.DataFrame(data)\n",
    "# df['Time'] = df['Time']*3600"
   ]
  },
  {
   "cell_type": "code",
   "execution_count": null,
   "id": "f466ec90-e95e-4240-b18c-9ac5fb17e1a2",
   "metadata": {},
   "outputs": [],
   "source": [
    "print(df[(df['Command']=='Charge')]['Line'].unique())\n",
    "print(df[(df['Command']=='Discharge')]['Line'].unique())"
   ]
  },
  {
   "cell_type": "code",
   "execution_count": null,
   "id": "16a84d60-0097-45a7-8c81-9ede2ffa38e8",
   "metadata": {},
   "outputs": [],
   "source": [
    "discharge_1 = df[(df['Command']=='Discharge') & (df['Line']==20) | (df['Line']==21)]\n",
    "discharge_2 = df[(df['Command']=='Discharge') & (df['Line']==27) | (df['Line']==28)]"
   ]
  },
  {
   "cell_type": "code",
   "execution_count": null,
   "id": "d09f781e-3d13-4fab-9017-8c16cb580c2d",
   "metadata": {},
   "outputs": [],
   "source": [
    "discharge_1['Time'].diff().iloc[1:]"
   ]
  },
  {
   "cell_type": "code",
   "execution_count": null,
   "id": "056e374e-b786-4e7c-a35f-7d5a6d6689b8",
   "metadata": {},
   "outputs": [],
   "source": [
    "dis_cap_1 = -sum(discharge_1['Time'].diff().iloc[1:]*discharge_1['I'].iloc[1:])/3600\n",
    "dis_cap_2 = -sum(discharge_2['Time'].diff().iloc[1:]*discharge_2['I'].iloc[1:])/3600\n",
    "print(f'The discharge capacity is: {(dis_cap_1+dis_cap_2)/2}Ah')"
   ]
  },
  {
   "cell_type": "code",
   "execution_count": null,
   "id": "d830742b-9e9c-44a9-91f5-f58c23e78227",
   "metadata": {},
   "outputs": [],
   "source": [
    "dis_cap_2"
   ]
  },
  {
   "cell_type": "code",
   "execution_count": null,
   "id": "f4536394-bf69-4c12-9b3e-a7b7f299ea2c",
   "metadata": {},
   "outputs": [],
   "source": [
    "data = {}\n",
    "for field in columns_to_extract:\n",
    "    field_value = getattr(dataset, field, None)\n",
    "    if field_value is not None:\n",
    "        if isinstance(field_value, np.ndarray):\n",
    "            data[field] = field_value.squeeze()\n",
    "df = pd.DataFrame(data)"
   ]
  },
  {
   "cell_type": "code",
   "execution_count": null,
   "id": "7a9c7bc8-9e57-499a-b5b9-7f568e499777",
   "metadata": {},
   "outputs": [],
   "source": [
    "df['Time'] = df['Time']*3600"
   ]
  },
  {
   "cell_type": "code",
   "execution_count": null,
   "id": "74c21664-a5f2-427c-a12e-3176317b031b",
   "metadata": {},
   "outputs": [],
   "source": [
    "df['Command'].unique()"
   ]
  },
  {
   "cell_type": "code",
   "execution_count": null,
   "id": "0bf5159a-c931-411b-a4f7-7ee1e9a33617",
   "metadata": {},
   "outputs": [],
   "source": [
    "df[df['Command']=='Discharge']['Line'].unique()"
   ]
  },
  {
   "cell_type": "code",
   "execution_count": null,
   "id": "8b85422e-9f1e-4111-895d-922b359121ee",
   "metadata": {},
   "outputs": [],
   "source": [
    "discharge_1 = df[(df['Command']=='Discharge') & (df['Line']==20) | (df['Line']==21)]\n",
    "discharge_2 = df[(df['Command']=='Discharge') & (df['Line']==27) | (df['Line']==28)]"
   ]
  },
  {
   "cell_type": "code",
   "execution_count": null,
   "id": "50c03d27-05ed-417d-bdb7-92bd0f53ae8a",
   "metadata": {},
   "outputs": [],
   "source": [
    "dis_cap_1 = -sum(discharge_1['Time'].diff().iloc[1:]/3600*discharge_1['I'].iloc[1:])/3600\n",
    "dis_cap_2 = -sum(discharge_2['Time'].diff().iloc[1:]/3600*discharge_2['I'].iloc[1:])/3600\n",
    "dis_cap = (dis_cap_1 + dis_cap_2) / 2"
   ]
  },
  {
   "cell_type": "code",
   "execution_count": null,
   "id": "144f8693-d222-4ea6-8dfe-68681d1ba1da",
   "metadata": {},
   "outputs": [],
   "source": [
    "dis_cap"
   ]
  },
  {
   "cell_type": "code",
   "execution_count": null,
   "id": "22dae899-7290-4aea-b056-fa66c0155c6f",
   "metadata": {},
   "outputs": [],
   "source": [
    "plt.plot(df[(df['Command']=='Discharge') & (df['Line']==20) | (df['Line']==21)]['I'])"
   ]
  },
  {
   "cell_type": "code",
   "execution_count": null,
   "id": "342536f3-4de1-4af1-be2a-30ed65083ef9",
   "metadata": {},
   "outputs": [],
   "source": [
    "plt.plot(df[(df['Command']=='Discharge') & (df['Line']==21)]['I'])"
   ]
  },
  {
   "cell_type": "code",
   "execution_count": null,
   "id": "749dc337-5588-48d0-9f5a-521059cdc139",
   "metadata": {},
   "outputs": [],
   "source": [
    "plt.plot(df['U'])"
   ]
  }
 ],
 "metadata": {
  "kernelspec": {
   "display_name": "Python 3",
   "language": "python",
   "name": "python3"
  },
  "language_info": {
   "codemirror_mode": {
    "name": "ipython",
    "version": 3
   },
   "file_extension": ".py",
   "mimetype": "text/x-python",
   "name": "python",
   "nbconvert_exporter": "python",
   "pygments_lexer": "ipython3",
   "version": "3.10.1"
  }
 },
 "nbformat": 4,
 "nbformat_minor": 5
}
